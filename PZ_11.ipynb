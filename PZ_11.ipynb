{
  "nbformat": 4,
  "nbformat_minor": 0,
  "metadata": {
    "colab": {
      "name": "PZ_11.ipynb",
      "provenance": [],
      "collapsed_sections": [],
      "toc_visible": true,
      "authorship_tag": "ABX9TyOxrImQmD/WjxU7b6D6r8bh",
      "include_colab_link": true
    },
    "kernelspec": {
      "name": "python3",
      "display_name": "Python 3"
    },
    "language_info": {
      "name": "python"
    }
  },
  "cells": [
    {
      "cell_type": "markdown",
      "metadata": {
        "id": "view-in-github",
        "colab_type": "text"
      },
      "source": [
        "<a href=\"https://colab.research.google.com/github/Merel5/Proj_1sem_Ivanov/blob/master/PZ_11.ipynb\" target=\"_parent\"><img src=\"https://colab.research.google.com/assets/colab-badge.svg\" alt=\"Open In Colab\"/></a>"
      ]
    },
    {
      "cell_type": "markdown",
      "source": [
        "# PZ_3\n",
        "Даны три целых числа: A, B, C. Проверить истинность высказывания: «Ровно два из чисел A, B, C являются положительными»."
      ],
      "metadata": {
        "id": "rke2lNmx6yJF"
      }
    },
    {
      "cell_type": "code",
      "source": [
        "A = input('Введи первое целое число: ')  # Ввод переменной\n",
        "while type(A) != int:  # Обработка исключений\n",
        "    try:\n",
        "        A = int(A)\n",
        "    except ValueError:\n",
        "        print('Неправильно ввели')\n",
        "        A = input('Введи первое целое число: ')\n",
        "B = input('Введи второе целое число: ')  # Ввод переменной\n",
        "while type(B) != int:  # Обработка исключений\n",
        "    try:\n",
        "        B = int(B)\n",
        "    except ValueError:\n",
        "        print('Неправильно ввели')\n",
        "        B = input('Введи второе целое число: ')\n",
        "C = input('Введи третье целое число: ')  # Ввод переменной\n",
        "while type(C) != int:  # Обработка исключений\n",
        "    try:\n",
        "        C = int(C)\n",
        "    except ValueError:\n",
        "        print('Неправильно ввели')\n",
        "        C = input('Введи третье целое число: ')\n",
        "if ((A > 0) and (B > 0) and (C <= 0)) or ((A <= 0) and (B > 0) and (C > 0)) or ((A > 0) and (B <= 0) and (C > 0)):\n",
        "    print('Истина')\n",
        "else:\n",
        "    print('Ложь')"
      ],
      "metadata": {
        "id": "rlul92z87Kca"
      },
      "execution_count": null,
      "outputs": []
    },
    {
      "cell_type": "markdown",
      "source": [
        "# PZ_4\n",
        "Дано вещественное число A и целое число N (N>0). Используя один цикл, найти значение выражения 1 - A + A 2 - A 3 + ... +(-1) N A N . Условный оператор не использовать."
      ],
      "metadata": {
        "id": "EHyt6Mp57aO2"
      }
    },
    {
      "cell_type": "code",
      "source": [
        "A = float(input('Введите вещественное число: '))  # Ввод переменной\n",
        "while type(A) != float:  # Обработка исключений\n",
        "    try:\n",
        "        A = float(A)\n",
        "    except ValueError:\n",
        "        print('Неправильно ввели')\n",
        "        A = input('Введите вещественное число: ')\n",
        "N = input('Введите целое число больше ноля: ')  # Ввод переменной\n",
        "while type(N) != int:  # Обработка исключений\n",
        "    try:\n",
        "        N = int(N)\n",
        "    except ValueError:\n",
        "        print('Неправильно ввели')\n",
        "        N = input('Введите целое число больше ноля: ')\n",
        "while N < 0:\n",
        "    print('Неправильно ввели')\n",
        "    N = input('Введите целое число больше ноля: ')\n",
        "    while type(N) != int:\n",
        "        try:\n",
        "            N = int(N)\n",
        "        except ValueError:\n",
        "            print('Неправильно ввели')\n",
        "            N = input('Введите целое число больше ноля: ')\n",
        "C = 0\n",
        "j = 0\n",
        "K = -1\n",
        "while K < N:\n",
        "    a = (pow(-1, C))\n",
        "    b = (pow(A, C))\n",
        "    h = a * b\n",
        "    j += h\n",
        "    C += 1\n",
        "    K += 1\n",
        "print('Результат =', j)"
      ],
      "metadata": {
        "colab": {
          "base_uri": "https://localhost:8080/"
        },
        "id": "fx147x9T7rit",
        "outputId": "b649a318-279a-41a7-894e-21935ca1acea"
      },
      "execution_count": 2,
      "outputs": [
        {
          "output_type": "stream",
          "name": "stdout",
          "text": [
            "Введите вещественное число: 12.3\n",
            "Введите целое число больше ноля: 23\n",
            "Результат = -1.081112860502071e+25\n"
          ]
        }
      ]
    },
    {
      "cell_type": "markdown",
      "source": [
        "# PZ_5\n",
        "Найти сумму чисел ряда 1,2,3,4,... от числа n до m. Суммирование оформить функцией с параметрами. Значения n и m программа должна запрашивать."
      ],
      "metadata": {
        "id": "8yVRjGOD7y-G"
      }
    },
    {
      "cell_type": "code",
      "source": [
        "def jet(a, b):  # Функция\n",
        "    k = 0\n",
        "    b += 1\n",
        "    while a < b:\n",
        "        k += a\n",
        "        a += 1\n",
        "    return k\n",
        "\n",
        "\n",
        "n = int(input('Ввести значение первой цифры: '))  # Ввод переменных\n",
        "m = int(input('Ввести значение второй цифры: '))\n",
        "print(jet(n, m))  # Вывод суммы"
      ],
      "metadata": {
        "colab": {
          "base_uri": "https://localhost:8080/"
        },
        "id": "WpV6U5Y576fo",
        "outputId": "974ea08c-1b78-4f6d-d950-977d419211c2"
      },
      "execution_count": 3,
      "outputs": [
        {
          "output_type": "stream",
          "name": "stdout",
          "text": [
            "Ввести значение первой цифры: 1\n",
            "Ввести значение второй цифры: 6\n",
            "21\n"
          ]
        }
      ]
    }
  ]
}